{
 "cells": [
  {
   "cell_type": "markdown",
   "metadata": {},
   "source": [
    "# BOSTON HOUSING : Linear Regression\n",
    "\n",
    "\n",
    "## 1 Dataset description :\n",
    "\n",
    "- crim : per capita crime rate by town\n",
    "- zn : proportion of residential land zoned for lots over 25,000 sq.ft.\n",
    "- indus : proportion of non-retail business acres per town.\n",
    "- chas : Charles River dummy variable (= 1 if tract bounds river; 0 otherwise).\n",
    "- nox : nitrogen oxides concentration (parts per 10 million).\n",
    "- rm : average number of rooms per dwelling.\n",
    "- age : proportion of owner-occupied units built prior to 1940.\n",
    "- dis : weighted mean of distances to five Boston employment centres.\n",
    "- rad : index of accessibility to radial highways.\n",
    "- tax : full-value property-tax rate per \\$10,000.\n",
    "- ptratio : pupil-teacher ratio by town.\n",
    "- black : 1000(Bk - 0.63)^2 where Bk is the proportion of blacks by town.\n",
    "- lstat : lower status of the population (percent).\n",
    "- mdev : median value of owner-occupied homes in \\$1000s. (target variable)\n",
    "\n",
    "ref : [https://www.kaggle.com/c/boston-housing]"
   ]
  },
  {
   "cell_type": "code",
   "execution_count": 1,
   "metadata": {},
   "outputs": [],
   "source": [
    "%matplotlib inline\n",
    "import numpy as np\n",
    "import pandas as pd\n",
    "import seaborn as sns\n",
    "sns.set(rc={'figure.figsize':(15,10)})\n",
    "import matplotlib.pyplot as plt\n",
    "from sklearn.datasets import load_boston\n",
    "import datetime\n",
    "import math"
   ]
  },
  {
   "cell_type": "code",
   "execution_count": 2,
   "metadata": {},
   "outputs": [],
   "source": [
    "boston = load_boston()\n",
    "boston_dataset = pd.DataFrame(boston.data, columns=boston.feature_names)\n",
    "boston_dataset['MEDV'] =  boston.target"
   ]
  },
  {
   "cell_type": "code",
   "execution_count": 3,
   "metadata": {},
   "outputs": [
    {
     "data": {
      "text/html": [
       "<div>\n",
       "<style scoped>\n",
       "    .dataframe tbody tr th:only-of-type {\n",
       "        vertical-align: middle;\n",
       "    }\n",
       "\n",
       "    .dataframe tbody tr th {\n",
       "        vertical-align: top;\n",
       "    }\n",
       "\n",
       "    .dataframe thead th {\n",
       "        text-align: right;\n",
       "    }\n",
       "</style>\n",
       "<table border=\"1\" class=\"dataframe\">\n",
       "  <thead>\n",
       "    <tr style=\"text-align: right;\">\n",
       "      <th></th>\n",
       "      <th>CRIM</th>\n",
       "      <th>ZN</th>\n",
       "      <th>INDUS</th>\n",
       "      <th>CHAS</th>\n",
       "      <th>NOX</th>\n",
       "      <th>RM</th>\n",
       "      <th>AGE</th>\n",
       "      <th>DIS</th>\n",
       "      <th>RAD</th>\n",
       "      <th>TAX</th>\n",
       "      <th>PTRATIO</th>\n",
       "      <th>B</th>\n",
       "      <th>LSTAT</th>\n",
       "      <th>MEDV</th>\n",
       "    </tr>\n",
       "  </thead>\n",
       "  <tbody>\n",
       "    <tr>\n",
       "      <th>0</th>\n",
       "      <td>0.00632</td>\n",
       "      <td>18.0</td>\n",
       "      <td>2.31</td>\n",
       "      <td>0.0</td>\n",
       "      <td>0.538</td>\n",
       "      <td>6.575</td>\n",
       "      <td>65.2</td>\n",
       "      <td>4.0900</td>\n",
       "      <td>1.0</td>\n",
       "      <td>296.0</td>\n",
       "      <td>15.3</td>\n",
       "      <td>396.90</td>\n",
       "      <td>4.98</td>\n",
       "      <td>24.0</td>\n",
       "    </tr>\n",
       "    <tr>\n",
       "      <th>1</th>\n",
       "      <td>0.02731</td>\n",
       "      <td>0.0</td>\n",
       "      <td>7.07</td>\n",
       "      <td>0.0</td>\n",
       "      <td>0.469</td>\n",
       "      <td>6.421</td>\n",
       "      <td>78.9</td>\n",
       "      <td>4.9671</td>\n",
       "      <td>2.0</td>\n",
       "      <td>242.0</td>\n",
       "      <td>17.8</td>\n",
       "      <td>396.90</td>\n",
       "      <td>9.14</td>\n",
       "      <td>21.6</td>\n",
       "    </tr>\n",
       "    <tr>\n",
       "      <th>2</th>\n",
       "      <td>0.02729</td>\n",
       "      <td>0.0</td>\n",
       "      <td>7.07</td>\n",
       "      <td>0.0</td>\n",
       "      <td>0.469</td>\n",
       "      <td>7.185</td>\n",
       "      <td>61.1</td>\n",
       "      <td>4.9671</td>\n",
       "      <td>2.0</td>\n",
       "      <td>242.0</td>\n",
       "      <td>17.8</td>\n",
       "      <td>392.83</td>\n",
       "      <td>4.03</td>\n",
       "      <td>34.7</td>\n",
       "    </tr>\n",
       "    <tr>\n",
       "      <th>3</th>\n",
       "      <td>0.03237</td>\n",
       "      <td>0.0</td>\n",
       "      <td>2.18</td>\n",
       "      <td>0.0</td>\n",
       "      <td>0.458</td>\n",
       "      <td>6.998</td>\n",
       "      <td>45.8</td>\n",
       "      <td>6.0622</td>\n",
       "      <td>3.0</td>\n",
       "      <td>222.0</td>\n",
       "      <td>18.7</td>\n",
       "      <td>394.63</td>\n",
       "      <td>2.94</td>\n",
       "      <td>33.4</td>\n",
       "    </tr>\n",
       "    <tr>\n",
       "      <th>4</th>\n",
       "      <td>0.06905</td>\n",
       "      <td>0.0</td>\n",
       "      <td>2.18</td>\n",
       "      <td>0.0</td>\n",
       "      <td>0.458</td>\n",
       "      <td>7.147</td>\n",
       "      <td>54.2</td>\n",
       "      <td>6.0622</td>\n",
       "      <td>3.0</td>\n",
       "      <td>222.0</td>\n",
       "      <td>18.7</td>\n",
       "      <td>396.90</td>\n",
       "      <td>5.33</td>\n",
       "      <td>36.2</td>\n",
       "    </tr>\n",
       "  </tbody>\n",
       "</table>\n",
       "</div>"
      ],
      "text/plain": [
       "      CRIM    ZN  INDUS  CHAS    NOX     RM   AGE     DIS  RAD    TAX  \\\n",
       "0  0.00632  18.0   2.31   0.0  0.538  6.575  65.2  4.0900  1.0  296.0   \n",
       "1  0.02731   0.0   7.07   0.0  0.469  6.421  78.9  4.9671  2.0  242.0   \n",
       "2  0.02729   0.0   7.07   0.0  0.469  7.185  61.1  4.9671  2.0  242.0   \n",
       "3  0.03237   0.0   2.18   0.0  0.458  6.998  45.8  6.0622  3.0  222.0   \n",
       "4  0.06905   0.0   2.18   0.0  0.458  7.147  54.2  6.0622  3.0  222.0   \n",
       "\n",
       "   PTRATIO       B  LSTAT  MEDV  \n",
       "0     15.3  396.90   4.98  24.0  \n",
       "1     17.8  396.90   9.14  21.6  \n",
       "2     17.8  392.83   4.03  34.7  \n",
       "3     18.7  394.63   2.94  33.4  \n",
       "4     18.7  396.90   5.33  36.2  "
      ]
     },
     "execution_count": 3,
     "metadata": {},
     "output_type": "execute_result"
    }
   ],
   "source": [
    "boston_dataset.head()"
   ]
  },
  {
   "cell_type": "markdown",
   "metadata": {},
   "source": [
    "## 2. Feature Selection"
   ]
  },
  {
   "cell_type": "code",
   "execution_count": 4,
   "metadata": {},
   "outputs": [
    {
     "data": {
      "image/png": "[encoded data removed]",
      "text/plain": [
       "<Figure size 432x288 with 2 Axes>"
      ]
     },
     "metadata": {
      "needs_background": "light"
     },
     "output_type": "display_data"
    }
   ],
   "source": [
    "corr_matrix = boston_dataset.corr().round(2)\n",
    "sns.heatmap(data=corr_matrix, annot=True, cmap=\"BrBG\")\n",
    "plt.show()"
   ]
  },
  {
   "cell_type": "code",
   "execution_count": 5,
   "metadata": {},
   "outputs": [],
   "source": [
    "#Relevant features are features highly correlated with our target variable\n",
    "relevant_features = abs(corr_matrix[\"MEDV\"])\n",
    "relevant_features = relevant_features[relevant_features > 0.5]"
   ]
  },
  {
   "cell_type": "code",
   "execution_count": 6,
   "metadata": {},
   "outputs": [
    {
     "data": {
      "text/plain": [
       "RM         0.70\n",
       "PTRATIO    0.51\n",
       "LSTAT      0.74\n",
       "MEDV       1.00\n",
       "Name: MEDV, dtype: float64"
      ]
     },
     "execution_count": 6,
     "metadata": {},
     "output_type": "execute_result"
    }
   ],
   "source": [
    "relevant_features"
   ]
  },
  {
   "cell_type": "code",
   "execution_count": 7,
   "metadata": {},
   "outputs": [
    {
     "data": {
      "text/html": [
       "<div>\n",
       "<style scoped>\n",
       "    .dataframe tbody tr th:only-of-type {\n",
       "        vertical-align: middle;\n",
       "    }\n",
       "\n",
       "    .dataframe tbody tr th {\n",
       "        vertical-align: top;\n",
       "    }\n",
       "\n",
       "    .dataframe thead th {\n",
       "        text-align: right;\n",
       "    }\n",
       "</style>\n",
       "<table border=\"1\" class=\"dataframe\">\n",
       "  <thead>\n",
       "    <tr style=\"text-align: right;\">\n",
       "      <th></th>\n",
       "      <th>RM</th>\n",
       "      <th>PTRATIO</th>\n",
       "      <th>LSTAT</th>\n",
       "    </tr>\n",
       "  </thead>\n",
       "  <tbody>\n",
       "    <tr>\n",
       "      <th>RM</th>\n",
       "      <td>1.00</td>\n",
       "      <td>-0.36</td>\n",
       "      <td>-0.61</td>\n",
       "    </tr>\n",
       "    <tr>\n",
       "      <th>PTRATIO</th>\n",
       "      <td>-0.36</td>\n",
       "      <td>1.00</td>\n",
       "      <td>0.37</td>\n",
       "    </tr>\n",
       "    <tr>\n",
       "      <th>LSTAT</th>\n",
       "      <td>-0.61</td>\n",
       "      <td>0.37</td>\n",
       "      <td>1.00</td>\n",
       "    </tr>\n",
       "  </tbody>\n",
       "</table>\n",
       "</div>"
      ],
      "text/plain": [
       "           RM  PTRATIO  LSTAT\n",
       "RM       1.00    -0.36  -0.61\n",
       "PTRATIO -0.36     1.00   0.37\n",
       "LSTAT   -0.61     0.37   1.00"
      ]
     },
     "execution_count": 7,
     "metadata": {},
     "output_type": "execute_result"
    }
   ],
   "source": [
    "#Because of Least Squares Assumptions (LSA), the independant variables (features) must be uncorrelated with each other\n",
    "boston_dataset[[\"RM\", \"PTRATIO\", \"LSTAT\"]].corr().round(2)"
   ]
  },
  {
   "cell_type": "markdown",
   "metadata": {},
   "source": [
    "We see that RM and LSTAT are highly correlated with each other, hence we should select only one of them. We choose here to take the one wich is more correlated with the target variable, hence we keep LSTAT."
   ]
  },
  {
   "cell_type": "code",
   "execution_count": 8,
   "metadata": {},
   "outputs": [],
   "source": [
    "X = boston_dataset[['PTRATIO', 'LSTAT']]\n",
    "y = boston_dataset.MEDV"
   ]
  },
  {
   "cell_type": "markdown",
   "metadata": {},
   "source": [
    "## 3. Data Preprocessing"
   ]
  },
  {
   "cell_type": "code",
   "execution_count": 9,
   "metadata": {},
   "outputs": [],
   "source": [
    "def split_data(x, y, ratio, seed=1):\n",
    "    \"\"\"split the dataset based on the split ratio.\"\"\"\n",
    "    \n",
    "    # set seed to have reproducible/consistent results\n",
    "    np.random.seed(seed)\n",
    "    \n",
    "    # generate random indices\n",
    "    num_row = len(y)\n",
    "    indices = np.random.permutation(num_row)\n",
    "    index_split = int(np.floor(ratio * num_row))\n",
    "    index_tr = indices[: index_split]\n",
    "    index_te = indices[index_split:]\n",
    "    \n",
    "    # create split\n",
    "    x_tr = x.iloc[index_tr]\n",
    "    x_te = x.iloc[index_te]\n",
    "    y_tr = y.iloc[index_tr]\n",
    "    y_te = y.iloc[index_te]\n",
    "    return x_tr, x_te, y_tr, y_te\n",
    "\n",
    "def standardize(x):\n",
    "    \"\"\"Standardize the original data set.\"\"\"\n",
    "    return (x - x.mean(axis=0))/ x.std(axis=0)\n",
    "\n",
    "def build_model_data(x):\n",
    "    \"\"\"Form tX to get regression data in matrix form. tX is X with intercept\"\"\"\n",
    "    num_samples = y.shape[0]\n",
    "    x[\"INTERCEPT\"] = pd.Series(np.ones(num_samples))\n",
    "    return x\n",
    "\n",
    "def prepare_model(X, y, r, s) :\n",
    "    \"\"\"Apply all previous helper functions to preprocess data\"\"\"\n",
    "    \n",
    "    X_train, X_test, y_train, y_test = split_data(X, y, r, seed=s)\n",
    "    \n",
    "    X_train = standardize(X_train)\n",
    "    X_train = build_model_data(X_train)\n",
    "    \n",
    "    X_test = standardize(X_test)\n",
    "    X_test = build_model_data(X_test)\n",
    "    \n",
    "    return X_train, X_test, y_train, y_test"
   ]
  },
  {
   "cell_type": "code",
   "execution_count": 10,
   "metadata": {},
   "outputs": [],
   "source": [
    "X_train, X_test, y_train, y_test = prepare_model(X, y, 0.9, 1)"
   ]
  },
  {
   "cell_type": "markdown",
   "metadata": {},
   "source": [
    "## 4. Pandas/Numpy implementation"
   ]
  },
  {
   "cell_type": "code",
   "execution_count": 11,
   "metadata": {},
   "outputs": [],
   "source": [
    "def mse(e):\n",
    "    \"\"\"Compute the mse for the error vector e.\"\"\"\n",
    "    return 1/2*np.mean(e**2)\n",
    "\n",
    "def compute_gradient(y, tx, w):\n",
    "    \"\"\"Compute the gradient.\"\"\"\n",
    "    err = y - tx.dot(w)\n",
    "    grad = -tx.T.dot(err) / len(err)\n",
    "    return grad, err"
   ]
  },
  {
   "cell_type": "code",
   "execution_count": 12,
   "metadata": {},
   "outputs": [],
   "source": [
    "def gradient_descent(y, tx, initial_w, max_iters, gamma, epsilon = 10e-5):\n",
    "    \"\"\"Gradient descent algorithm.\"\"\"\n",
    "    # Define parameters to store w and loss\n",
    "    ws = [initial_w]\n",
    "    losses = []\n",
    "    w = initial_w\n",
    "    prev = math.inf\n",
    "    for n_iter in range(max_iters):\n",
    "        # compute loss, gradient and rmse(actual loss)\n",
    "        grad, err = compute_gradient(y, tx, w) \n",
    "        loss = np.sqrt(2 * mse(err))\n",
    "        # gradient w by descent update\n",
    "        w = w - gamma * grad\n",
    "        # store w and loss\n",
    "        ws.append(w)\n",
    "        losses.append(loss)\n",
    "        #Stop earlier if we reached convergence\n",
    "        if(abs(loss - prev) < epsilon) :\n",
    "            print(\"Reached Convergence !\")\n",
    "            break\n",
    "        prev = loss\n",
    "        print(\"Gradient Descent({bi}/{ti}): loss={l}, w0={w0}, w1={w1}, w2={w2}\".format(\n",
    "              bi=n_iter, ti=max_iters - 1, l=loss, w0=w[0], w1=w[1], w2=w[2]))\n",
    "\n",
    "    return losses, ws"
   ]
  },
  {
   "cell_type": "code",
   "execution_count": 13,
   "metadata": {},
   "outputs": [
    {
     "name": "stdout",
     "output_type": "stream",
     "text": [
      "Gradient Descent(0/49): loss=24.61436907245775, w0=-3.2729074300943077, w1=-4.805168507903803, w2=15.94492307692308\n",
      "Gradient Descent(1/49): loss=9.087882735556304, w0=-3.0051969192237102, w1=-5.39956334055006, w2=20.728400000000036\n",
      "Gradient Descent(2/49): loss=6.259891262460132, w0=-2.769276837267815, w1=-5.648694816767846, w2=22.163443076923123\n",
      "Gradient Descent(3/49): loss=5.924440708887851, w0=-2.6330902272978456, w1=-5.785415706856919, w2=22.59395600000005\n",
      "Gradient Descent(4/49): loss=5.8882647289553525, w0=-2.5563272296869877, w1=-5.862200311214201, w2=22.72310987692312\n",
      "Gradient Descent(5/49): loss=5.883397595999118, w0=-2.513131957296604, w1=-5.905396457399949, w2=22.761856040000044\n",
      "Gradient Descent(6/49): loss=5.882452610069757, w0=-2.488828511062295, w1=-5.929699938971293, w2=22.77347988892312\n",
      "Gradient Descent(7/49): loss=5.8822071271486545, w0=-2.4751545064783596, w1=-5.943373944984288, w2=22.77696704360004\n",
      "Reached Convergence !\n"
     ]
    }
   ],
   "source": [
    "# Define the parameters of the algorithm.\n",
    "max_iters = 50\n",
    "gamma = 0.7\n",
    "\n",
    "# Initialization\n",
    "w_initial = np.array([0, 0, 0])\n",
    "\n",
    "# Start gradient descent.\n",
    "start_time = datetime.datetime.now()\n",
    "gradient_losses, gradient_ws = gradient_descent(y_train, X_train, w_initial, max_iters, gamma)\n",
    "end_time = datetime.datetime.now()\n",
    "\n",
    "#Get final weights\n",
    "params = gradient_ws[-1]\n",
    "\n",
    "#Model is y = w2 + w0*PTRATIO + w1*LSTAT\n",
    "pred = params[2] + params[0]*X_test.PTRATIO + params[1]*X_test.LSTAT"
   ]
  },
  {
   "cell_type": "code",
   "execution_count": 14,
   "metadata": {},
   "outputs": [
    {
     "name": "stdout",
     "output_type": "stream",
     "text": [
      "Gradient Descent: execution time=0.036 seconds\n",
      "Train loss : 5.882134247497131\n",
      "Test loss : 5.146806236501715\n"
     ]
    }
   ],
   "source": [
    "#Evaluate performance\n",
    "\n",
    "exection_time_np = (end_time - start_time).total_seconds()\n",
    "print(\"Gradient Descent: execution time={t:.3f} seconds\".format(t=exection_time_np))\n",
    "train_loss_np = gradient_losses[-1]\n",
    "print(\"Train loss : {}\".format(train_loss_np))\n",
    "test_loss_np = np.sqrt(2 * mse(y_test - pred))\n",
    "print(\"Test loss : {}\".format(test_loss_np))"
   ]
  },
  {
   "cell_type": "markdown",
   "metadata": {},
   "source": [
    "## 5. Sklearn implementation"
   ]
  },
  {
   "cell_type": "code",
   "execution_count": 15,
   "metadata": {},
   "outputs": [],
   "source": [
    "from sklearn.linear_model import LinearRegression"
   ]
  },
  {
   "cell_type": "code",
   "execution_count": 16,
   "metadata": {},
   "outputs": [
    {
     "name": "stdout",
     "output_type": "stream",
     "text": [
      "Gradient Descent: execution time=0.012 seconds\n",
      "Train loss : 5.882101189744941\n",
      "Test loss : 5.149021510727107\n"
     ]
    }
   ],
   "source": [
    "model = LinearRegression()\n",
    "start_time = datetime.datetime.now()\n",
    "model.fit(X_train, y_train)\n",
    "end_time = datetime.datetime.now()\n",
    "\n",
    "exection_time_sk = (end_time - start_time).total_seconds()\n",
    "print(\"Gradient Descent: execution time={t:.3f} seconds\".format(t=exection_time_sk))\n",
    "train_loss_sk = np.sqrt(2 * mse(y_train - model.predict(X_train)))\n",
    "print(\"Train loss : {}\".format(train_loss_sk))\n",
    "test_loss_sk = np.sqrt(2 * mse(y_test - model.predict(X_test)))\n",
    "print(\"Test loss : {}\".format(test_loss_sk))"
   ]
  },
  {
   "cell_type": "markdown",
   "metadata": {},
   "source": [
    "## 6. Conclusion\n",
    "\n",
    "**Finally, we got comparable results in terms of performance on train and test set with respect to the RMSE metric. However, sklearn source code uses Least squares method along with other parallel optimization to make its training slightly more efficient. (training in 0.012 seconds with their implementation compared to ours with 0.036 seconds). Furthermore, sklearn implementation leads to smaller and more compact code.**"
   ]
  },
  {
   "cell_type": "code",
   "execution_count": null,
   "metadata": {},
   "outputs": [],
   "source": []
  }
 ],
 "metadata": {
  "kernelspec": {
   "display_name": "Python 3",
   "language": "python",
   "name": "python3"
  },
  "language_info": {
   "codemirror_mode": {
    "name": "ipython",
    "version": 3
   },
   "file_extension": ".py",
   "mimetype": "text/x-python",
   "name": "python",
   "nbconvert_exporter": "python",
   "pygments_lexer": "ipython3",
   "version": "3.7.3"
  }
 },
 "nbformat": 4,
 "nbformat_minor": 2
}
